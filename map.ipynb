{
 "cells": [
  {
   "cell_type": "code",
   "id": "initial_id",
   "metadata": {
    "collapsed": true,
    "ExecuteTime": {
     "end_time": "2025-06-26T21:35:37.164686Z",
     "start_time": "2025-06-26T21:35:30.359765Z"
    }
   },
   "source": [
    "import pandas as pd\n",
    "import matplotlib.pyplot as plt\n",
    "import plotly.express as px\n",
    "from geopy.geocoders import Nominatim\n",
    "from geopy.extra.rate_limiter import RateLimiter\n",
    "from tqdm import tqdm\n",
    "import os\n",
    "import certifi\n",
    "import time\n",
    "import re\n",
    "import folium\n",
    "import geopandas as gpd\n",
    "from folium.features import GeoJsonTooltip\n",
    "import fiona\n",
    "\n",
    "\n",
    "# Load the data\n",
    "df = pd.read_excel(\"record_24to25.xlsx\")\n",
    "# Drop rows with missing data\n",
    "df = df.dropna(subset=[\"patients_common_name\", \"patients_disposition\", \"patients_disposition_location\"])\n",
    "released_df = df[df[\"patients_disposition\"] == \"Released\"].copy()"
   ],
   "outputs": [],
   "execution_count": 21
  },
  {
   "metadata": {},
   "cell_type": "markdown",
   "source": "## Preprocess Address",
   "id": "a5ac496fd01c47f0"
  },
  {
   "metadata": {
    "ExecuteTime": {
     "end_time": "2025-06-26T19:50:09.344800Z",
     "start_time": "2025-06-26T19:50:09.329862Z"
    }
   },
   "cell_type": "code",
   "source": [
    "def clean_address(address: str) -> str:\n",
    "    if not isinstance(address, str):\n",
    "        return address\n",
    "\n",
    "    # Fix common typos\n",
    "    address = address.replace(\"PIace\", \"Place\").replace(\"PI\", \"Pl\")\n",
    "\n",
    "    # Remove descriptive info in parentheses\n",
    "    address = re.sub(r'\\([^)]*\\)', '', address)\n",
    "\n",
    "    # Handle addresses starting with landmark names\n",
    "    parts = [p.strip() for p in address.split(',')]\n",
    "    if len(parts) >= 2 and re.search(r'\\d{5}', parts[-1]):\n",
    "        # Already valid format\n",
    "        cleaned = ', '.join(parts)\n",
    "    else:\n",
    "        # Try to rearrange if ZIP is not at the end\n",
    "        zip_match = re.search(r'\\d{5}', address)\n",
    "        if zip_match:\n",
    "            zip_code = zip_match.group()\n",
    "            before = address[:zip_match.start()]\n",
    "            after = address[zip_match.start():]\n",
    "            cleaned = f\"{before.strip()}, {after.strip()}\"\n",
    "        else:\n",
    "            cleaned = address\n",
    "\n",
    "    return cleaned.strip()"
   ],
   "id": "6c22edf1735d0029",
   "outputs": [
    {
     "name": "stdout",
     "output_type": "stream",
     "text": [
      "Saved cleaned addresses to cached_geocodes_cleaned.csv\n"
     ]
    }
   ],
   "execution_count": 16
  },
  {
   "metadata": {},
   "cell_type": "markdown",
   "source": "## Get Address Latitude and Longitude",
   "id": "34b16586eb2d1d85"
  },
  {
   "metadata": {
    "ExecuteTime": {
     "end_time": "2025-06-26T19:47:09.863791Z",
     "start_time": "2025-06-26T19:45:29.687372Z"
    }
   },
   "cell_type": "code",
   "source": [
    "# --- Setup ---\n",
    "os.environ['SSL_CERT_FILE'] = certifi.where()\n",
    "\n",
    "# Load released-only addresses\n",
    "addresses = released_df[\"patients_disposition_location\"].dropna().unique()\n",
    "\n",
    "# Load existing cache\n",
    "cache_file = \"cached_geocodes.csv\"\n",
    "if os.path.exists(cache_file):\n",
    "    cached_df = pd.read_csv(cache_file)\n",
    "    cache = dict(zip(cached_df[\"address\"], zip(cached_df[\"lat\"], cached_df[\"lon\"])))\n",
    "else:\n",
    "    cache = {}\n",
    "\n",
    "# Geocoder setup\n",
    "geolocator = Nominatim(user_agent=\"pswc_mapper\", timeout=10)\n",
    "geocode = RateLimiter(geolocator.geocode, min_delay_seconds=2, max_retries=3, error_wait_seconds=10)\n",
    "\n",
    "# Process addresses\n",
    "results = []\n",
    "\n",
    "for raw_address in tqdm(addresses, desc=\"Geocoding addresses\"):\n",
    "    cleaned = clean_address(raw_address)\n",
    "    if cleaned in cache:\n",
    "        lat, lon = cache[cleaned]\n",
    "    else:\n",
    "        try:\n",
    "            location = geocode(cleaned)\n",
    "            if location:\n",
    "                lat, lon = location.latitude, location.longitude\n",
    "            else:\n",
    "                lat, lon = None, None\n",
    "        except Exception:\n",
    "            lat, lon = None, None\n",
    "        cache[cleaned] = (lat, lon)\n",
    "        time.sleep(2)\n",
    "    results.append({\"address\": raw_address, \"lat\": lat, \"lon\": lon})\n",
    "\n",
    "# Save cache\n",
    "geocoded_df = pd.DataFrame(results)\n",
    "geocoded_df.to_csv(cache_file, index=False)"
   ],
   "id": "70f16a9aff35863a",
   "outputs": [
    {
     "name": "stderr",
     "output_type": "stream",
     "text": [
      "Geocoding addresses: 100%|██████████| 226/226 [01:40<00:00,  2.26it/s]\n"
     ]
    }
   ],
   "execution_count": 15
  },
  {
   "metadata": {},
   "cell_type": "markdown",
   "source": "## Map Release locations",
   "id": "92a8abfd1e878bf2"
  },
  {
   "metadata": {
    "ExecuteTime": {
     "end_time": "2025-06-26T21:28:04.441488Z",
     "start_time": "2025-06-26T21:28:04.333747Z"
    }
   },
   "cell_type": "code",
   "source": [
    "# Initialize map with the same style as the first map\n",
    "m = folium.Map(location=[47.6, -122.33], zoom_start=10, tiles=\"CartoDB positron\")\n",
    "\n",
    "# Add markers\n",
    "for _, row in geocoded_df.dropna(subset=[\"lat\", \"lon\"]).iterrows():\n",
    "    folium.Marker(\n",
    "        location=[row[\"lat\"], row[\"lon\"]],\n",
    "        popup=row[\"address\"],\n",
    "        icon=folium.Icon(color=\"blue\", icon=\"info-sign\")\n",
    "    ).add_to(m)\n",
    "\n",
    "# Save map\n",
    "m.save(\"release_locations_map2.html\")"
   ],
   "id": "74967988f313ca9e",
   "outputs": [],
   "execution_count": 19
  },
  {
   "metadata": {},
   "cell_type": "markdown",
   "source": "## Map Release Area",
   "id": "dc17e5fd9c4a705"
  },
  {
   "metadata": {
    "ExecuteTime": {
     "end_time": "2025-06-26T21:44:43.407746Z",
     "start_time": "2025-06-26T21:44:43.159065Z"
    }
   },
   "cell_type": "code",
   "source": [
    "# --- Load list of valid municipalities ---\n",
    "municipalities = pd.read_csv(\"wa_municipalities_cleaned.csv\")  # should have a column 'City'\n",
    "municipalities[\"Municipality\"] = municipalities[\"Municipality\"].str.lower().str.strip()\n",
    "\n",
    "# --- Extract city from location field ---\n",
    "def extract_city(location, city_list):\n",
    "    location = str(location).lower()\n",
    "    for city in city_list:\n",
    "        if city in location:\n",
    "            return city\n",
    "    return None\n",
    "\n",
    "released_df[\"disposition_city\"] = released_df[\"patients_disposition_location\"].apply(\n",
    "    lambda x: extract_city(x, municipalities[\"Municipality\"].tolist())\n",
    ")\n",
    "\n",
    "# --- Count number of releases per city ---\n",
    "city_counts = released_df[\"disposition_city\"].value_counts().reset_index()\n",
    "city_counts.columns = [\"CityName\", \"count\"]\n",
    "\n",
    "# --- Load GDB of city boundaries ---\n",
    "gdb_path = \"CityLimits/CityLimits.gdb\"\n",
    "layer_name = fiona.listlayers(gdb_path)[0]\n",
    "gdf = gpd.read_file(gdb_path, layer=layer_name)\n",
    "gdf['CityName'] = gdf['CityName'].str.lower().str.strip()\n",
    "\n",
    "# --- Merge counts with city geometries ---\n",
    "merged = gdf.merge(city_counts, on=\"CityName\", how=\"left\").fillna({'count': 0})\n",
    "nonzero = merged[merged['count'] > 0].copy()\n",
    "nonzero = nonzero.to_crs(epsg=4326)\n",
    "nonzero = nonzero.drop(columns=[\"LastUpdate\"], errors=\"ignore\")\n",
    "\n",
    "# --- Plot interactive map ---\n",
    "m = folium.Map(location=[47.6062, -122.3321], zoom_start=9, tiles=\"CartoDB positron\")\n",
    "\n",
    "# Add choropleth\n",
    "folium.Choropleth(\n",
    "    geo_data=nonzero,\n",
    "    data=nonzero,\n",
    "    columns=[\"CityName\", \"count\"],\n",
    "    key_on=\"feature.properties.CityName\",\n",
    "    fill_color=\"YlGnBu\",\n",
    "    fill_opacity=0.7,\n",
    "    line_opacity=0.2,\n",
    "    legend_name=\"Number of Releases\",\n",
    "    nan_fill_color=\"white\",\n",
    ").add_to(m)\n",
    "\n",
    "# Optional: Add tooltip\n",
    "folium.GeoJson(\n",
    "    nonzero,\n",
    "    tooltip=GeoJsonTooltip(\n",
    "        fields=[\"CityName\", \"count\"],\n",
    "        aliases=[\"City\", \"Releases\"],\n",
    "        localize=True,\n",
    "        sticky=True,\n",
    "        labels=True\n",
    "    ),\n",
    "    style_function=lambda x: {\"fillOpacity\": 0, \"color\": \"black\", \"weight\": 0.3},\n",
    ").add_to(m)\n",
    "\n",
    "# Save\n",
    "m.save(\"release_municipalities_map.html\")"
   ],
   "id": "379d119e684c1e7e",
   "outputs": [],
   "execution_count": 25
  }
 ],
 "metadata": {
  "kernelspec": {
   "display_name": "Python 3",
   "language": "python",
   "name": "python3"
  },
  "language_info": {
   "codemirror_mode": {
    "name": "ipython",
    "version": 2
   },
   "file_extension": ".py",
   "mimetype": "text/x-python",
   "name": "python",
   "nbconvert_exporter": "python",
   "pygments_lexer": "ipython2",
   "version": "2.7.6"
  }
 },
 "nbformat": 4,
 "nbformat_minor": 5
}

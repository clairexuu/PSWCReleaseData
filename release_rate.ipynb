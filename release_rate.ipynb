{
 "cells": [
  {
   "cell_type": "code",
   "execution_count": 18,
   "id": "218b9bf8c6574133",
   "metadata": {
    "ExecuteTime": {
     "end_time": "2025-07-03T23:42:32.952867Z",
     "start_time": "2025-07-03T23:42:32.752931Z"
    }
   },
   "outputs": [],
   "source": [
    "import pandas as pd\n",
    "import matplotlib.pyplot as plt\n",
    "import plotly.express as px\n",
    "\n",
    "# Load the data\n",
    "# List of Excel files (update paths as needed)\n",
    "files = [\n",
    "    \"data/patient-medical-record-24.xlsx\",\n",
    "    \"data/patient-medical-record-23.xlsx\",\n",
    "    \"data/patient-medical-record-18.xlsx\",\n",
    "    \"data/patient-medical-record-17.xlsx\",\n",
    "    \"data/patient-medical-record-16.xlsx\",\n",
    "    \"data/patient-medical-record-15.xlsx\",\n",
    "    \"data/patient-medical-record-14.xlsx\"\n",
    "]\n",
    "\n",
    "# Read and concatenate all DataFrames, keeping only the columns we need\n",
    "columns_to_keep = [\"patients_common_name\", \"patients_disposition\", \"patients_days_in_care\"]\n",
    "df_list = []\n",
    "for file in files:\n",
    "    temp_df = pd.read_excel(file)\n",
    "    # Keep only the columns we need if they exist in the file\n",
    "    available_cols = [col for col in columns_to_keep if col in temp_df.columns]\n",
    "    df_list.append(temp_df[available_cols])\n",
    "\n",
    "df = pd.concat(df_list, ignore_index=True)\n",
    "\n",
    "# df = pd.read_excel(\"data/patient-medical-record-2017.xlsx\")\n",
    "\n",
    "# Drop rows with missing data\n",
    "df = df.dropna(subset=[\"patients_common_name\", \"patients_disposition\"])\n",
    "\n",
    "# Standardize species names\n",
    "df[\"patients_common_name\"] = df[\"patients_common_name\"].replace({\n",
    "    \"Douglas's Squirrel\": \"Douglas Squirrel\",\n",
    "    \"Douglas' Squirrel\": \"Douglas Squirrel\"\n",
    "})\n",
    "\n",
    "df.to_csv(\"14to24/release_rate_14to24.csv\", index=False)"
   ]
  },
  {
   "cell_type": "markdown",
   "id": "2571e6ddb0a1b5cb",
   "metadata": {},
   "source": [
    "# PSWC Release Data Analysis (2014-2024)"
   ]
  },
  {
   "cell_type": "markdown",
   "id": "87b951f569d02b33",
   "metadata": {},
   "source": [
    "## Plot all Release Rate"
   ]
  },
  {
   "cell_type": "code",
   "execution_count": 21,
   "id": "initial_id",
   "metadata": {
    "ExecuteTime": {
     "end_time": "2025-07-03T23:42:38.336285Z",
     "start_time": "2025-07-03T23:42:38.286723Z"
    },
    "collapsed": true,
    "jupyter": {
     "outputs_hidden": true
    }
   },
   "outputs": [
    {
     "data": {
      "application/vnd.plotly.v1+json": {
       "config": {
        "plotlyServerURL": "https://plot.ly"
       },
       "data": [
        {
         "customdata": {
          "bdata": "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",
          "dtype": "f8",
          "shape": "127, 3"
         },
         "hovertemplate": "<b>%{y}</b><br>Release Rate: %{x:.1%}<br>Released: %{customdata[0]:.0f}<br>Total Received (excl. DOA): %{customdata[1]:.0f}<br>Total DOA: %{customdata[2]:.0f}<extra></extra>",
         "legendgroup": "",
         "marker": {
          "color": "#636efa",
          "pattern": {
           "shape": ""
          }
         },
         "name": "",
         "orientation": "h",
         "showlegend": false,
         "textposition": "auto",
         "type": "bar",
         "x": {
          "bdata": "DSd1Xx5boT9VVVVVVVW1P2QhC1nIQrY/RhdddNFFtz+amZmZmZm5P73pTW9607s/HMdxHMdxvD+SJEmSJEnCP5IkSZIkScI/ZZNNNtlkwz8cTJHPusHEP1VVVVVVVcU/l5aWlpaWxj+amZmZmZnJPxzHcRzHccw/zxEo2mrwzD8d1EEd1EHNP0qeZUQfUM0/ntiJndiJzT+e2Imd2InNPx4eHh4eHs4/AAAAAAAA0D8AAAAAAADQPwAAAAAAANA/AAAAAAAA0D8AAAAAAADQPwAAAAAAANA/AAAAAAAA0D+xEzuxEzvRP3TRRRdddNE/dNFFF1100T8zp3/IT93RP+xRuB6F69E/7FG4HoXr0T/sUbgehevRPxkg8dSQAdI/kiRJkiRJ0j9vMEU+6wbTP6Bydgu/GtM/MzMzMzMz0z8zMzMzMzPTPzMzMzMzM9M/OL3pTW960z/kOI7jOI7TPwAAAAAAANQ/AAAAAAAA1D9VVVVVVVXVP1VVVVVVVdU/VVVVVVVV1T9VVVVVVVXVP1VVVVVVVdU/VVVVVVVV1T9VVVVVVVXVP6QMPN2aH9Y/ZCELWchC1j+XlpaWlpbWP5eWlpaWltY/t23btm3b1j93d3d3d3fXP633y3q/rNc/AAAAAAAA2D8AAAAAAADYP9WinrNKV9g/2Ymd2Imd2D/ZiZ3YiZ3YP5qZmZmZmdk/mpmZmZmZ2T+amZmZmZnZP5qZmZmZmdk/mpmZmZmZ2T/OFcmT/T7aP2G5pxGWe9o/27Zt27Zt2z/btm3btm3bP9u2bdu2bds/27Zt27Zt2z8aYbmnEZbbP83MzMzMzNw/F1100UUX3T86X90jrUzePwntJbSX0N4/AAAAAAAA3z8AAAAAAADgPwAAAAAAAOA/AAAAAAAA4D8AAAAAAADgPwAAAAAAAOA/AAAAAAAA4D8AAAAAAADgPwAAAAAAAOA/AAAAAAAA4D8AAAAAAADgPwAAAAAAAOA/AAAAAAAA4D8AAAAAAADgPwAAAAAAAOA/AAAAAAAA4D8AAAAAAADgPwAAAAAAAOA/AAAAAAAA4D8AAAAAAADgP2ELtmALtuA/MQzDMAzD4D/cZrWIIPfgPxEREREREeE/g+1FOlsh4T900UUXXXThP3TRRRdddOE/mpmZmZmZ4T+SJEmSJEniP5IkSZIkSeI/AAAAAAAA5D8AAAAAAADkP1VVVVVVVeU/VVVVVVVV5T9VVVVVVVXlP1VVVVVVVeU/ZCELWchC5j8XaIEWaIHmP7dt27Zt2+Y/t23btm3b5j8AAAAAAADoP5qZmZmZmek/q6qqqqqq6j+rqqqqqqrqP9u2bdu2bes/27Zt27Zt6z8=",
          "dtype": "f8"
         },
         "xaxis": "x",
         "y": [
          "American Crow",
          "Pine Siskin",
          "Sharp-shinned Hawk",
          "Great Horned Owl",
          "Unidentified",
          "Black-capped Chickadee",
          "Black-tailed Deer",
          "Rufous Hummingbird",
          "Red-breasted Sapsucker",
          "Bewick's Wren",
          "Glaucous-winged Gull",
          "Red-breasted Nuthatch",
          "Bald Eagle",
          "Ruddy Duck",
          "Swainson's Thrush",
          "Dark-eyed Junco",
          "Anna's Hummingbird",
          "Northern Flicker",
          "Great Blue Heron",
          "Pileated Woodpecker",
          "Evening Grosbeak",
          "Chestnut-backed Chickadee",
          "Rat",
          "American Coot",
          "Common Raven",
          "Black-headed Grosbeak",
          "American Kestrel",
          "Unidentified Scrub Jay",
          "Big Brown Bat",
          "Merlin",
          "Song Sparrow",
          "Northwestern Crow",
          "Red-tailed Hawk",
          "Little Brown Bat",
          "Cooper's Hawk",
          "Eastern Cottontail",
          "North-western Crow",
          "House Finch",
          "House Sparrow",
          "Peregrine Falcon",
          "Purple Finch",
          "Barred Owl",
          "Coyote",
          "Glaucous Gull",
          "Violet-green Swallow",
          "American Goldfinch",
          "Spotted Towhee",
          "North American Beaver",
          "Western Scrub Jay",
          "Common Goldeneye",
          "Savannah Sparrow",
          "Downy Woodpecker",
          "Cliff Swallow",
          "Steller's Jay",
          "Fox Sparrow",
          "Varied Thrush",
          "Mourning Dove",
          "Green Heron",
          "Tree Swallow",
          "American Robin",
          "Bufflehead",
          "Silver-haired Bat",
          "Eastern Grey Squirrel",
          "Barn Swallow",
          "Common Merganser",
          "Short-tailed Weasel",
          "Pied-billed Grebe",
          "Golden-crowned Sparrow",
          "Virginia Rail",
          "Mountain Beaver",
          "Northern Raccoon",
          "Barn Owl",
          "Northern Saw-whet Owl",
          "Townsend's Vole",
          "Osprey",
          "Wood Duck",
          "Canada Goose",
          "Eurasian Collared-dove",
          "Cedar Waxwing",
          "Eastern Gray Squirrel",
          "Vaux's Swift",
          "Townsend's Chipmunk",
          "Short-eared Owl",
          "Townsend's Mole",
          "Fancy Pigeon",
          "Ruby-crowned Kinglet",
          "Cackling Goose",
          "Brewer's Blackbird",
          "Cassin's Vireo",
          "Northern Harrier",
          "Hermit Thrush",
          "Lesser Scaup",
          "Lincoln's Sparrow",
          "Western Screech-owl",
          "White-tailed Deer",
          "North American Porcupine",
          "Painted Turtle",
          "American Mink",
          "Norway Rat",
          "Bobwhite Quail",
          "Gadwall",
          "Northwestern Deermouse",
          "Red-winged Blackbird",
          "Virginia Opossum",
          "Rock Pigeon",
          "Mallard",
          "Barn owl",
          "Deer Mouse",
          "Band-tailed Pigeon",
          "Western Grebe",
          "Brown Rat",
          "Northern Pygmy-owl",
          "Killdeer",
          "Western Scrub-Jay",
          "Double-crested Cormorant",
          "Ring-necked Duck",
          "Bobcat",
          "Northern Flying Squirrel",
          "Douglas Squirrel",
          "House Mouse",
          "Striped Skunk",
          "Common Barn-owl",
          "Red-eyed Vireo",
          "Water Vole",
          "Ring-necked Pheasant",
          "Western Screech Owl",
          "Long-tailed Weasel"
         ],
         "yaxis": "y"
        }
       ],
       "layout": {
        "barmode": "relative",
        "height": 3175,
        "hoverlabel": {
         "bgcolor": "white",
         "bordercolor": "black",
         "font": {
          "color": "black",
          "family": "Arial",
          "size": 14
         }
        },
        "legend": {
         "tracegroupgap": 0
        },
        "margin": {
         "l": 200
        },
        "template": {
         "data": {
          "bar": [
           {
            "error_x": {
             "color": "#2a3f5f"
            },
            "error_y": {
             "color": "#2a3f5f"
            },
            "marker": {
             "line": {
              "color": "#E5ECF6",
              "width": 0.5
             },
             "pattern": {
              "fillmode": "overlay",
              "size": 10,
              "solidity": 0.2
             }
            },
            "type": "bar"
           }
          ],
          "barpolar": [
           {
            "marker": {
             "line": {
              "color": "#E5ECF6",
              "width": 0.5
             },
             "pattern": {
              "fillmode": "overlay",
              "size": 10,
              "solidity": 0.2
             }
            },
            "type": "barpolar"
           }
          ],
          "carpet": [
           {
            "aaxis": {
             "endlinecolor": "#2a3f5f",
             "gridcolor": "white",
             "linecolor": "white",
             "minorgridcolor": "white",
             "startlinecolor": "#2a3f5f"
            },
            "baxis": {
             "endlinecolor": "#2a3f5f",
             "gridcolor": "white",
             "linecolor": "white",
             "minorgridcolor": "white",
             "startlinecolor": "#2a3f5f"
            },
            "type": "carpet"
           }
          ],
          "choropleth": [
           {
            "colorbar": {
             "outlinewidth": 0,
             "ticks": ""
            },
            "type": "choropleth"
           }
          ],
          "contour": [
           {
            "colorbar": {
             "outlinewidth": 0,
             "ticks": ""
            },
            "colorscale": [
             [
              0,
              "#0d0887"
             ],
             [
              0.1111111111111111,
              "#46039f"
             ],
             [
              0.2222222222222222,
              "#7201a8"
             ],
             [
              0.3333333333333333,
              "#9c179e"
             ],
             [
              0.4444444444444444,
              "#bd3786"
             ],
             [
              0.5555555555555556,
              "#d8576b"
             ],
             [
              0.6666666666666666,
              "#ed7953"
             ],
             [
              0.7777777777777778,
              "#fb9f3a"
             ],
             [
              0.8888888888888888,
              "#fdca26"
             ],
             [
              1,
              "#f0f921"
             ]
            ],
            "type": "contour"
           }
          ],
          "contourcarpet": [
           {
            "colorbar": {
             "outlinewidth": 0,
             "ticks": ""
            },
            "type": "contourcarpet"
           }
          ],
          "heatmap": [
           {
            "colorbar": {
             "outlinewidth": 0,
             "ticks": ""
            },
            "colorscale": [
             [
              0,
              "#0d0887"
             ],
             [
              0.1111111111111111,
              "#46039f"
             ],
             [
              0.2222222222222222,
              "#7201a8"
             ],
             [
              0.3333333333333333,
              "#9c179e"
             ],
             [
              0.4444444444444444,
              "#bd3786"
             ],
             [
              0.5555555555555556,
              "#d8576b"
             ],
             [
              0.6666666666666666,
              "#ed7953"
             ],
             [
              0.7777777777777778,
              "#fb9f3a"
             ],
             [
              0.8888888888888888,
              "#fdca26"
             ],
             [
              1,
              "#f0f921"
             ]
            ],
            "type": "heatmap"
           }
          ],
          "histogram": [
           {
            "marker": {
             "pattern": {
              "fillmode": "overlay",
              "size": 10,
              "solidity": 0.2
             }
            },
            "type": "histogram"
           }
          ],
          "histogram2d": [
           {
            "colorbar": {
             "outlinewidth": 0,
             "ticks": ""
            },
            "colorscale": [
             [
              0,
              "#0d0887"
             ],
             [
              0.1111111111111111,
              "#46039f"
             ],
             [
              0.2222222222222222,
              "#7201a8"
             ],
             [
              0.3333333333333333,
              "#9c179e"
             ],
             [
              0.4444444444444444,
              "#bd3786"
             ],
             [
              0.5555555555555556,
              "#d8576b"
             ],
             [
              0.6666666666666666,
              "#ed7953"
             ],
             [
              0.7777777777777778,
              "#fb9f3a"
             ],
             [
              0.8888888888888888,
              "#fdca26"
             ],
             [
              1,
              "#f0f921"
             ]
            ],
            "type": "histogram2d"
           }
          ],
          "histogram2dcontour": [
           {
            "colorbar": {
             "outlinewidth": 0,
             "ticks": ""
            },
            "colorscale": [
             [
              0,
              "#0d0887"
             ],
             [
              0.1111111111111111,
              "#46039f"
             ],
             [
              0.2222222222222222,
              "#7201a8"
             ],
             [
              0.3333333333333333,
              "#9c179e"
             ],
             [
              0.4444444444444444,
              "#bd3786"
             ],
             [
              0.5555555555555556,
              "#d8576b"
             ],
             [
              0.6666666666666666,
              "#ed7953"
             ],
             [
              0.7777777777777778,
              "#fb9f3a"
             ],
             [
              0.8888888888888888,
              "#fdca26"
             ],
             [
              1,
              "#f0f921"
             ]
            ],
            "type": "histogram2dcontour"
           }
          ],
          "mesh3d": [
           {
            "colorbar": {
             "outlinewidth": 0,
             "ticks": ""
            },
            "type": "mesh3d"
           }
          ],
          "parcoords": [
           {
            "line": {
             "colorbar": {
              "outlinewidth": 0,
              "ticks": ""
             }
            },
            "type": "parcoords"
           }
          ],
          "pie": [
           {
            "automargin": true,
            "type": "pie"
           }
          ],
          "scatter": [
           {
            "fillpattern": {
             "fillmode": "overlay",
             "size": 10,
             "solidity": 0.2
            },
            "type": "scatter"
           }
          ],
          "scatter3d": [
           {
            "line": {
             "colorbar": {
              "outlinewidth": 0,
              "ticks": ""
             }
            },
            "marker": {
             "colorbar": {
              "outlinewidth": 0,
              "ticks": ""
             }
            },
            "type": "scatter3d"
           }
          ],
          "scattercarpet": [
           {
            "marker": {
             "colorbar": {
              "outlinewidth": 0,
              "ticks": ""
             }
            },
            "type": "scattercarpet"
           }
          ],
          "scattergeo": [
           {
            "marker": {
             "colorbar": {
              "outlinewidth": 0,
              "ticks": ""
             }
            },
            "type": "scattergeo"
           }
          ],
          "scattergl": [
           {
            "marker": {
             "colorbar": {
              "outlinewidth": 0,
              "ticks": ""
             }
            },
            "type": "scattergl"
           }
          ],
          "scattermap": [
           {
            "marker": {
             "colorbar": {
              "outlinewidth": 0,
              "ticks": ""
             }
            },
            "type": "scattermap"
           }
          ],
          "scattermapbox": [
           {
            "marker": {
             "colorbar": {
              "outlinewidth": 0,
              "ticks": ""
             }
            },
            "type": "scattermapbox"
           }
          ],
          "scatterpolar": [
           {
            "marker": {
             "colorbar": {
              "outlinewidth": 0,
              "ticks": ""
             }
            },
            "type": "scatterpolar"
           }
          ],
          "scatterpolargl": [
           {
            "marker": {
             "colorbar": {
              "outlinewidth": 0,
              "ticks": ""
             }
            },
            "type": "scatterpolargl"
           }
          ],
          "scatterternary": [
           {
            "marker": {
             "colorbar": {
              "outlinewidth": 0,
              "ticks": ""
             }
            },
            "type": "scatterternary"
           }
          ],
          "surface": [
           {
            "colorbar": {
             "outlinewidth": 0,
             "ticks": ""
            },
            "colorscale": [
             [
              0,
              "#0d0887"
             ],
             [
              0.1111111111111111,
              "#46039f"
             ],
             [
              0.2222222222222222,
              "#7201a8"
             ],
             [
              0.3333333333333333,
              "#9c179e"
             ],
             [
              0.4444444444444444,
              "#bd3786"
             ],
             [
              0.5555555555555556,
              "#d8576b"
             ],
             [
              0.6666666666666666,
              "#ed7953"
             ],
             [
              0.7777777777777778,
              "#fb9f3a"
             ],
             [
              0.8888888888888888,
              "#fdca26"
             ],
             [
              1,
              "#f0f921"
             ]
            ],
            "type": "surface"
           }
          ],
          "table": [
           {
            "cells": {
             "fill": {
              "color": "#EBF0F8"
             },
             "line": {
              "color": "white"
             }
            },
            "header": {
             "fill": {
              "color": "#C8D4E3"
             },
             "line": {
              "color": "white"
             }
            },
            "type": "table"
           }
          ]
         },
         "layout": {
          "annotationdefaults": {
           "arrowcolor": "#2a3f5f",
           "arrowhead": 0,
           "arrowwidth": 1
          },
          "autotypenumbers": "strict",
          "coloraxis": {
           "colorbar": {
            "outlinewidth": 0,
            "ticks": ""
           }
          },
          "colorscale": {
           "diverging": [
            [
             0,
             "#8e0152"
            ],
            [
             0.1,
             "#c51b7d"
            ],
            [
             0.2,
             "#de77ae"
            ],
            [
             0.3,
             "#f1b6da"
            ],
            [
             0.4,
             "#fde0ef"
            ],
            [
             0.5,
             "#f7f7f7"
            ],
            [
             0.6,
             "#e6f5d0"
            ],
            [
             0.7,
             "#b8e186"
            ],
            [
             0.8,
             "#7fbc41"
            ],
            [
             0.9,
             "#4d9221"
            ],
            [
             1,
             "#276419"
            ]
           ],
           "sequential": [
            [
             0,
             "#0d0887"
            ],
            [
             0.1111111111111111,
             "#46039f"
            ],
            [
             0.2222222222222222,
             "#7201a8"
            ],
            [
             0.3333333333333333,
             "#9c179e"
            ],
            [
             0.4444444444444444,
             "#bd3786"
            ],
            [
             0.5555555555555556,
             "#d8576b"
            ],
            [
             0.6666666666666666,
             "#ed7953"
            ],
            [
             0.7777777777777778,
             "#fb9f3a"
            ],
            [
             0.8888888888888888,
             "#fdca26"
            ],
            [
             1,
             "#f0f921"
            ]
           ],
           "sequentialminus": [
            [
             0,
             "#0d0887"
            ],
            [
             0.1111111111111111,
             "#46039f"
            ],
            [
             0.2222222222222222,
             "#7201a8"
            ],
            [
             0.3333333333333333,
             "#9c179e"
            ],
            [
             0.4444444444444444,
             "#bd3786"
            ],
            [
             0.5555555555555556,
             "#d8576b"
            ],
            [
             0.6666666666666666,
             "#ed7953"
            ],
            [
             0.7777777777777778,
             "#fb9f3a"
            ],
            [
             0.8888888888888888,
             "#fdca26"
            ],
            [
             1,
             "#f0f921"
            ]
           ]
          },
          "colorway": [
           "#636efa",
           "#EF553B",
           "#00cc96",
           "#ab63fa",
           "#FFA15A",
           "#19d3f3",
           "#FF6692",
           "#B6E880",
           "#FF97FF",
           "#FECB52"
          ],
          "font": {
           "color": "#2a3f5f"
          },
          "geo": {
           "bgcolor": "white",
           "lakecolor": "white",
           "landcolor": "#E5ECF6",
           "showlakes": true,
           "showland": true,
           "subunitcolor": "white"
          },
          "hoverlabel": {
           "align": "left"
          },
          "hovermode": "closest",
          "mapbox": {
           "style": "light"
          },
          "paper_bgcolor": "white",
          "plot_bgcolor": "#E5ECF6",
          "polar": {
           "angularaxis": {
            "gridcolor": "white",
            "linecolor": "white",
            "ticks": ""
           },
           "bgcolor": "#E5ECF6",
           "radialaxis": {
            "gridcolor": "white",
            "linecolor": "white",
            "ticks": ""
           }
          },
          "scene": {
           "xaxis": {
            "backgroundcolor": "#E5ECF6",
            "gridcolor": "white",
            "gridwidth": 2,
            "linecolor": "white",
            "showbackground": true,
            "ticks": "",
            "zerolinecolor": "white"
           },
           "yaxis": {
            "backgroundcolor": "#E5ECF6",
            "gridcolor": "white",
            "gridwidth": 2,
            "linecolor": "white",
            "showbackground": true,
            "ticks": "",
            "zerolinecolor": "white"
           },
           "zaxis": {
            "backgroundcolor": "#E5ECF6",
            "gridcolor": "white",
            "gridwidth": 2,
            "linecolor": "white",
            "showbackground": true,
            "ticks": "",
            "zerolinecolor": "white"
           }
          },
          "shapedefaults": {
           "line": {
            "color": "#2a3f5f"
           }
          },
          "ternary": {
           "aaxis": {
            "gridcolor": "white",
            "linecolor": "white",
            "ticks": ""
           },
           "baxis": {
            "gridcolor": "white",
            "linecolor": "white",
            "ticks": ""
           },
           "bgcolor": "#E5ECF6",
           "caxis": {
            "gridcolor": "white",
            "linecolor": "white",
            "ticks": ""
           }
          },
          "title": {
           "x": 0.05
          },
          "xaxis": {
           "automargin": true,
           "gridcolor": "white",
           "linecolor": "white",
           "ticks": "",
           "title": {
            "standoff": 15
           },
           "zerolinecolor": "white",
           "zerolinewidth": 2
          },
          "yaxis": {
           "automargin": true,
           "gridcolor": "white",
           "linecolor": "white",
           "ticks": "",
           "title": {
            "standoff": 15
           },
           "zerolinecolor": "white",
           "zerolinewidth": 2
          }
         }
        },
        "title": {
         "text": "Release Rate by Animal Common Name (2014-2024, excluding DOA)"
        },
        "xaxis": {
         "anchor": "y",
         "domain": [
          0,
          1
         ],
         "title": {
          "text": "Release Rate"
         }
        },
        "yaxis": {
         "anchor": "x",
         "categoryorder": "total ascending",
         "domain": [
          0,
          1
         ],
         "title": {
          "text": "Animal Common Name"
         }
        }
       }
      }
     },
     "metadata": {},
     "output_type": "display_data"
    }
   ],
   "source": [
    "# Group by species and calculate total and released counts\n",
    "grouped = df.groupby(\"patients_common_name\")[\"patients_disposition\"].value_counts().unstack().fillna(0)\n",
    "\n",
    "# Calculate total excluding \"Dead on arrival\" cases\n",
    "exclude_cols = [\"Dead on arrival\"] if \"Dead on arrival\" in grouped.columns else []\n",
    "included_cols = [col for col in grouped.columns if col not in exclude_cols]\n",
    "grouped[\"total_excluding_doa\"] = grouped[included_cols].sum(axis=1)\n",
    "grouped[\"doa_count\"] = grouped.get(\"Dead on arrival\", 0)\n",
    "\n",
    "grouped[\"released\"] = grouped.get(\"Released\", 0)\n",
    "grouped[\"release_rate\"] = grouped[\"released\"] / grouped[\"total_excluding_doa\"]\n",
    "grouped = grouped.reset_index()\n",
    "\n",
    "# Filter out species with 0% or 100% release rate\n",
    "grouped = grouped[(grouped[\"release_rate\"] > 0) & (grouped[\"release_rate\"] < 1)]\n",
    "\n",
    "# Sort by release rate (ascending for horizontal bar chart to show highest at top)\n",
    "grouped = grouped.sort_values(by=\"release_rate\", ascending=True)\n",
    "\n",
    "# Create horizontal bar chart for better readability\n",
    "fig = px.bar(\n",
    "    grouped,\n",
    "    y=\"patients_common_name\",\n",
    "    x=\"release_rate\",\n",
    "    orientation='h',\n",
    "    hover_data={\"released\": \":.0f\", \"total_excluding_doa\": \":.0f\", \"doa_count\": \":.0f\"},\n",
    "    labels={\n",
    "        \"patients_common_name\": \"Animal Common Name\", \n",
    "        \"release_rate\": \"Release Rate\",\n",
    "        \"released\": \"Released\",\n",
    "        \"total_excluding_doa\": \"Total Received (excl. DOA)\",\n",
    "        \"doa_count\": \"Dead on Arrival\"\n",
    "    },\n",
    "    title=\"Release Rate by Animal Common Name (2014-2024, excluding DOA)\",\n",
    "    height=max(400, len(grouped) * 25)  # Dynamic height based on number of species\n",
    ")\n",
    "\n",
    "# Customize hover template with background color\n",
    "fig.update_traces(\n",
    "    hovertemplate='<b>%{y}</b><br>' +\n",
    "                  'Release Rate: %{x:.1%}<br>' +\n",
    "                  'Released: %{customdata[0]:.0f}<br>' +\n",
    "                  'Total Received (excl. DOA): %{customdata[1]:.0f}<br>' +\n",
    "                  'Total DOA: %{customdata[2]:.0f}' +\n",
    "                  '<extra></extra>'\n",
    ")\n",
    "\n",
    "fig.update_layout(\n",
    "    yaxis={'categoryorder':'total ascending'},  # Ensures bars are sorted by value\n",
    "    margin=dict(l=200),  # More left margin for animal names\n",
    "    hoverlabel=dict(\n",
    "        bgcolor=\"white\",  # White background\n",
    "        font_size=14,\n",
    "        font_family=\"Arial\",\n",
    "        font_color=\"black\",  # Black text\n",
    "        bordercolor=\"black\"  # Black border for definition\n",
    "    )\n",
    ")\n",
    "fig.show()\n",
    "fig.write_html(\"14to24/release_rate.html\")"
   ]
  },
  {
   "cell_type": "markdown",
   "id": "6vc840kw7r",
   "metadata": {},
   "source": [
    "## Species with 0% and 100% Release Rates"
   ]
  },
  {
   "cell_type": "code",
   "execution_count": 22,
   "id": "m6l7geqx8ka",
   "metadata": {},
   "outputs": [
    {
     "name": "stdout",
     "output_type": "stream",
     "text": [
      "Species with 0% Release Rate:\n",
      "--------------------------------------------------------------------------------\n",
      "               Common Name  Released  Total Received (excl. DOA)  Dead on Arrival\n",
      "               Winter Wren       0.0                        14.0              4.0\n",
      "                   Bushtit       0.0                        14.0              3.0\n",
      "         Belted Kingfisher       0.0                        10.0              0.0\n",
      "    Golden-crowned Kinglet       0.0                        10.0              5.0\n",
      "                House Wren       0.0                         7.0              0.0\n",
      "         European Starling       0.0                         7.0              0.0\n",
      "           California Gull       0.0                         6.0              0.0\n",
      "  Pacific-slope Flycatcher       0.0                         5.0              1.0\n",
      "             Vagrant Shrew       0.0                         4.0              1.0\n",
      "     American Herring Gull       0.0                         4.0              0.0\n",
      "     White-crowned Sparrow       0.0                         4.0              1.0\n",
      "           Western Tanager       0.0                         4.0              2.0\n",
      "          Common Nighthawk       0.0                         4.0              1.0\n",
      "North American River Otter       0.0                         3.0              0.0\n",
      "           American Beaver       0.0                         3.0              1.0\n",
      "              Pacific Wren       0.0                         3.0              0.0\n",
      "          Ring-billed Gull       0.0                         3.0              0.0\n",
      "    Unidentified Goldfinch       0.0                         3.0              0.0\n",
      "                  Mew Gull       0.0                         3.0              3.0\n",
      "     Yellow-rumped Warbler       0.0                         3.0              0.0\n",
      "                Coast Mole       0.0                         3.0              0.0\n",
      "      Brown-headed Cowbird       0.0                         3.0              0.0\n",
      "              Common Murre       0.0                         3.0              0.0\n",
      "         California Myotis       0.0                         3.0              0.0\n",
      "          Lesser Goldfinch       0.0                         2.0              2.0\n",
      "             Brown Creeper       0.0                         2.0              0.0\n",
      "         Western Scrub-jay       0.0                         2.0              0.0\n",
      "       Western Screech-Owl       0.0                         2.0              0.0\n",
      "        Northern Pygmy Owl       0.0                         2.0              0.0\n",
      "         Willow Flycatcher       0.0                         1.0              0.0\n",
      "              Red Squirrel       0.0                         1.0              0.0\n",
      "      Unidentified Swallow       0.0                         1.0              0.0\n",
      "          California Quail       0.0                         1.0              0.0\n",
      "       Rufous-sided Towhee       0.0                         1.0              1.0\n",
      "            Cassin's Finch       0.0                         1.0              0.0\n",
      "         Rhinoceros Auklet       0.0                         1.0              0.0\n",
      "       American Shrew Mole       0.0                         1.0              0.0\n",
      "       Red-naped Sapsucker       0.0                         1.0              0.0\n",
      "              Herring Gull       0.0                         1.0              1.0\n",
      "             Red Crossbill       0.0                         1.0              0.0\n",
      "              Horned Grebe       0.0                         1.0              0.0\n",
      "    Orange-crowned Warbler       0.0                         1.0              0.0\n",
      " Northwestern Garter Snake       0.0                         1.0              1.0\n",
      "      Northern River Otter       0.0                         1.0              0.0\n",
      "          Northern Pintail       0.0                         1.0              0.0\n",
      "            Common Muskrat       0.0                         1.0              0.0\n",
      " North American Deer mouse       0.0                         1.0              0.0\n",
      "         Nashville Warbler       0.0                         1.0              0.0\n",
      "          American Bushtit       0.0                         1.0              0.0\n",
      "             Grey Squirrel       0.0                         1.0              0.0\n",
      "    Macgillivray's Warbler       0.0                         1.0              1.0\n",
      "            Hutton's Vireo       0.0                         1.0              1.0\n",
      "          Hairy Woodpecker       0.0                         1.0              1.0\n",
      "                   Muskrat       0.0                         1.0              0.0\n",
      "\n",
      "\n",
      "Species with 100% Release Rate:\n",
      "--------------------------------------------------------------------------------\n",
      "                           Common Name  Released  Total Received (excl. DOA)  Dead on Arrival\n",
      "              North American Deermouse       5.0                         5.0              0.0\n",
      "                        Oldfield Mouse       5.0                         5.0              0.0\n",
      "                      Hooded Merganser       4.0                         4.0              0.0\n",
      "                          Common Quail       2.0                         2.0              0.0\n",
      "                            White Dove       2.0                         2.0              0.0\n",
      "             North American Deer Mouse       2.0                         2.0              0.0\n",
      "           Northern Band-tailed Pigeon       2.0                         2.0              0.0\n",
      "               Northwestern Salamander       2.0                         2.0              0.0\n",
      "                           Surf Scoter       2.0                         2.0              0.0\n",
      "                       American Wigeon       1.0                         1.0              0.0\n",
      "                         Ruffed Grouse       1.0                         1.0              0.0\n",
      "                 Yellow-throated Vireo       1.0                         1.0              0.0\n",
      "                  Yellow-pine Chipmunk       1.0                         1.0              0.0\n",
      "               White-headed Woodpecker       1.0                         1.0              0.0\n",
      "                    Western Flycatcher       1.0                         1.0              0.0\n",
      "                            Snow Goose       1.0                         1.0              0.0\n",
      "                             Rabbit sp       1.0                         1.0              0.0\n",
      "                     Red-throated Loon       1.0                         1.0              0.0\n",
      "                                 Raven       1.0                         1.0              0.0\n",
      "                         Racing Pigeon       1.0                         1.0              0.0\n",
      "Cascade Golden-mantled Ground Squirrel       1.0                         1.0              0.0\n",
      "                                  Coot       1.0                         1.0              0.0\n",
      "                   Common Garter Snake       1.0                         1.0              1.0\n",
      "             Columbian Ground Squirrel       1.0                         1.0              0.0\n",
      "                               Chuckar       1.0                         1.0              0.0\n",
      "                           Yuma Myotis       1.0                         1.0              0.0\n"
     ]
    }
   ],
   "source": [
    "# Group by species and calculate total and released counts (for 0% and 100% rates)\n",
    "grouped_all = df.groupby(\"patients_common_name\")[\"patients_disposition\"].value_counts().unstack().fillna(0)\n",
    "\n",
    "# Calculate total excluding \"Dead on arrival\" cases\n",
    "exclude_cols = [\"Dead on arrival\"] if \"Dead on arrival\" in grouped_all.columns else []\n",
    "included_cols = [col for col in grouped_all.columns if col not in exclude_cols]\n",
    "grouped_all[\"total_excluding_doa\"] = grouped_all[included_cols].sum(axis=1)\n",
    "grouped_all[\"doa_count\"] = grouped_all.get(\"Dead on arrival\", 0)\n",
    "grouped_all[\"released\"] = grouped_all.get(\"Released\", 0)\n",
    "grouped_all[\"release_rate\"] = grouped_all[\"released\"] / grouped_all[\"total_excluding_doa\"]\n",
    "grouped_all = grouped_all.reset_index()\n",
    "\n",
    "# Filter for species with 0% release rate\n",
    "zero_release = grouped_all[grouped_all[\"release_rate\"] == 0][\n",
    "    [\"patients_common_name\", \"released\", \"total_excluding_doa\", \"doa_count\"]\n",
    "].copy()\n",
    "zero_release.columns = [\"Common Name\", \"Released\", \"Total Received (excl. DOA)\", \"Dead on Arrival\"]\n",
    "zero_release = zero_release.sort_values(\"Total Received (excl. DOA)\", ascending=False)\n",
    "\n",
    "# Filter for species with 100% release rate\n",
    "hundred_release = grouped_all[grouped_all[\"release_rate\"] == 1][\n",
    "    [\"patients_common_name\", \"released\", \"total_excluding_doa\", \"doa_count\"]\n",
    "].copy()\n",
    "hundred_release.columns = [\"Common Name\", \"Released\", \"Total Received (excl. DOA)\", \"Dead on Arrival\"]\n",
    "hundred_release = hundred_release.sort_values(\"Released\", ascending=False)\n",
    "\n",
    "# Display tables\n",
    "print(\"Species with 0% Release Rate:\")\n",
    "print(\"-\" * 80)\n",
    "if len(zero_release) > 0:\n",
    "    print(zero_release.to_string(index=False))\n",
    "else:\n",
    "    print(\"No species with 0% release rate\")\n",
    "\n",
    "print(\"\\n\")\n",
    "print(\"Species with 100% Release Rate:\")\n",
    "print(\"-\" * 80)\n",
    "if len(hundred_release) > 0:\n",
    "    print(hundred_release.to_string(index=False))\n",
    "else:\n",
    "    print(\"No species with 100% release rate\")"
   ]
  },
  {
   "cell_type": "markdown",
   "id": "458f9fc69e9692d3",
   "metadata": {},
   "source": [
    "## Average number of days of care by Animal Common Name"
   ]
  },
  {
   "cell_type": "code",
   "execution_count": 25,
   "id": "b082ac421aaa89bb",
   "metadata": {
    "ExecuteTime": {
     "end_time": "2025-07-03T23:42:40.464543Z",
     "start_time": "2025-07-03T23:42:40.425824Z"
    }
   },
   "outputs": [
    {
     "data": {
      "application/vnd.plotly.v1+json": {
       "config": {
        "plotlyServerURL": "https://plot.ly"
       },
       "data": [
        {
         "customdata": {
          "bdata": "AgADAAEAAQABAAEAAQABAAEABQABAAQABAABAAEAAQADAAEABAADAAEABAAHAAUABgACAAEAAQAMAAQAAgAFADwDAQACAAIAAwADAAgAAQABAAEAAQACAAIAAQACAAcABQAEABgABQAOAAEACQACAAEABQAFAAIABwADAFsANAAFAAsADwAfAAIABQAEAAEAAgADAAEAAwABAAYAFgAGAAIAAQAEAAEAFQAEAC8ABQAGAA0AKAAGAAEAFgAeAAsADwAIAAIABgACAEAADAAFAAEAAQAcACEABgABAAYADwASAAEABgACAAMAGAAFAAIADAACAAEAnQFVAQ8ABQAGAAEAAwABAAIAAgAQAGcAdAABAAQAAwACACYBAgAyAAEAAgABAAEAggADAAIABwACAAEA",
          "dtype": "i2",
          "shape": "153, 1"
         },
         "hovertemplate": "<b>%{y}</b><br>Average Days in Care: %{x:.2f}<br>Total Released: %{customdata[0]:.0f}<extra></extra>",
         "legendgroup": "",
         "marker": {
          "color": "#636efa",
          "pattern": {
           "shape": ""
          }
         },
         "name": "",
         "orientation": "h",
         "showlegend": false,
         "textposition": "auto",
         "type": "bar",
         "x": {
          "bdata": "AAAAAAAA8D8AAAAAAADwPwAAAAAAAPA/AAAAAAAA8D8AAAAAAADwPwAAAAAAAPA/AAAAAAAA8D8AAAAAAADwPwAAAAAAAPA/AAAAAAAA8D8AAAAAAADwPwAAAAAAAPQ/AAAAAAAA/D8AAAAAAAAAQAAAAAAAAABAAAAAAAAAAEAAAAAAAAAAQAAAAAAAAAhAAAAAAAAAE0AAAAAAAAAUQAAAAAAAABRAAAAAAAAAFkBJkiRJkiQZQGZmZmZmZiBAAAAAAAAAIkAAAAAAAAAjQAAAAAAAACRAAAAAAAAAJECrqqqqqiokQAAAAAAAgCZAAAAAAAAAJ0AzMzMzMzMnQOzvYlAR7idAAAAAAAAAKEAAAAAAAAAoQAAAAAAAAClAVVVVVVVVKUBVVVVVVVUpQAAAAAAAQCtAAAAAAAAALEAAAAAAAAAsQAAAAAAAACxAAAAAAAAALkAAAAAAAAAvQAAAAAAAAC9AAAAAAAAAMEAAAAAAAIAwQG7btm3btjBAzczMzMzMMEAAAAAAAMAxQKuqqqqqKjJAZmZmZmZmMkDbtm3btu0yQAAAAAAAADNAVVVVVVVVM0AAAAAAAIAzQAAAAAAAADRAMzMzMzMzNEAAAAAAAAA1QAAAAAAAADVAkiRJkiRJNUCrqqqqqqo1QAMt0AIt0DVAxU7sxE7sNUAAAAAAAAA2QAAAAAAAADZAZmZmZmZmNkB0zjnnnHM2QAAAAAAAgDZAmpmZmZmZNkAAAAAAAMA2QAAAAAAAADdAAAAAAAAAN0AAAAAAAAA4QAAAAAAAADhAAAAAAAAAOEAAAAAAAAA4QKuqqqqqKjhA6aKLLrpoOEAAAAAAAIA4QAAAAAAAgDhAAAAAAAAAOUAAAAAAAIA5QAAAAAAAADpADMMwDMMwOkAAAAAAAEA6QCZXEJMriDpAmpmZmZmZOkCrqqqqqqo6QNmJndiJnTtAMzMzMzPTO0AAAAAAAAA8QAAAAAAAADxA0UUXXXRRPECJiIiIiAg9QC+66KKLLj1Aq6qqqqqqPUAAAAAAACA/QAAAAAAAgD9AVVVVVVXVP0AAAAAAAABAQAAAAAAAEkBAVVVVVVV1QEAAAAAAAIBAQAAAAAAAgEBAAAAAAACAQEBu27Zt2/ZAQKOLLrroIkFAq6qqqqpqQUAAAAAAAIBBQKuqqqqqqkFAVVVVVVXVQUCrqqqqqupBQAAAAAAAAEJAAAAAAACAQkAAAAAAAIBDQFVVVVVV1UNAVVVVVVXVQ0BmZmZmZuZDQAAAAAAAAERAVVVVVVU1REAAAAAAAIBEQAAAAAAAAEVAxJRQFow2RUCPOuqoo45FQAAAAAAAAEZAzczMzMxMRkBVVVVVVZVHQAAAAAAAgEhAq6qqqqqqSEAAAAAAAABJQAAAAAAAAElAAAAAAAAASUAAAAAAAJBJQEZ8AqnkvElAPo2w3NNISkAAAAAAAIBLQAAAAAAAAE5AVVVVVVXVT0AAAAAAAEBQQIor3RtQZlBAAAAAAACAUkAAAAAAAKBSQAAAAAAAgFNAAAAAAADgU0AAAAAAAEBUQAAAAAAAwFRA5EZu5EbOV0BVVVVVVVVYQAAAAAAAQFlAJUmSJEnSWkAAAAAAAMBbQAAAAAAAoHBA",
          "dtype": "f8"
         },
         "xaxis": "x",
         "y": [
          "Northwestern Salamander",
          "Bufflehead",
          "Common Garter Snake",
          "Red-throated Loon",
          "Black-tailed Deer",
          "Ruby-crowned Kinglet",
          "Coot",
          "Townsend's Mole",
          "Racing Pigeon",
          "North American Deermouse",
          "White-tailed Deer",
          "Western Grebe",
          "Pied-billed Grebe",
          "Ruddy Duck",
          "Common Goldeneye",
          "White-headed Woodpecker",
          "Peregrine Falcon",
          "North American Beaver",
          "American Crow",
          "Merlin",
          "Bobwhite Quail",
          "Pine Siskin",
          "Little Brown Bat",
          "Black-capped Chickadee",
          "Rufous Hummingbird",
          "North American Porcupine",
          "Yuma Myotis",
          "Cassin's Vireo",
          "Varied Thrush",
          "Evening Grosbeak",
          "Virginia Rail",
          "American Goldfinch",
          "Eastern Cottontail",
          "Yellow-throated Vireo",
          "Sharp-shinned Hawk",
          "Common Quail",
          "Pileated Woodpecker",
          "Osprey",
          "Fox Sparrow",
          "Norway Rat",
          "Lincoln's Sparrow",
          "Cackling Goose",
          "Ruffed Grouse",
          "Downy Woodpecker",
          "Golden-crowned Sparrow",
          "Raven",
          "Brewer's Blackbird",
          "Big Brown Bat",
          "Northern Pygmy-owl",
          "Western Scrub-Jay",
          "Anna's Hummingbird",
          "Oldfield Mouse",
          "Red-tailed Hawk",
          "Northern Harrier",
          "Eurasian Collared-dove",
          "Lesser Scaup",
          "American Coot",
          "Water Vole",
          "Violet-green Swallow",
          "Swainson's Thrush",
          "Cooper's Hawk",
          "Hermit Thrush",
          "American Robin",
          "Dark-eyed Junco",
          "Bewick's Wren",
          "Red-winged Blackbird",
          "Barn Swallow",
          "Townsend's Chipmunk",
          "Ring-necked Duck",
          "Ring-necked Pheasant",
          "Short-tailed Weasel",
          "Western Scrub Jay",
          "Black-headed Grosbeak",
          "Northern Saw-whet Owl",
          "Rat",
          "Common Barn-owl",
          "Columbian Ground Squirrel",
          "Song Sparrow",
          "House Finch",
          "Deer Mouse",
          "Savannah Sparrow",
          "Red-breasted Nuthatch",
          "Red-breasted Sapsucker",
          "Chuckar",
          "Barred Owl",
          "Red-eyed Vireo",
          "Northwestern Deermouse",
          "Killdeer",
          "Cliff Swallow",
          "Vaux's Swift",
          "House Sparrow",
          "Long-tailed Weasel",
          "Unidentified",
          "Tree Swallow",
          "Northern Flicker",
          "Glaucous Gull",
          "Spotted Towhee",
          "Brown Rat",
          "Surf Scoter",
          "Mourning Dove",
          "North American Deer Mouse",
          "Douglas Squirrel",
          "Barn Owl",
          "House Mouse",
          "Rabbit sp",
          "Cascade Golden-mantled Ground Squirrel",
          "Steller's Jay",
          "Band-tailed Pigeon",
          "Western Screech Owl",
          "Western Flycatcher",
          "Townsend's Vole",
          "Cedar Waxwing",
          "Glaucous-winged Gull",
          "Great Horned Owl",
          "Great Blue Heron",
          "Northern Band-tailed Pigeon",
          "American Mink",
          "Rock Pigeon",
          "Green Heron",
          "Chestnut-backed Chickadee",
          "Wood Duck",
          "White Dove",
          "Unidentified Scrub Jay",
          "Virginia Opossum",
          "Mallard",
          "Striped Skunk",
          "Common Merganser",
          "Barn owl",
          "Western Screech-owl",
          "Bald Eagle",
          "Snow Goose",
          "Double-crested Cormorant",
          "North-western Crow",
          "Northern Flying Squirrel",
          "Northwestern Crow",
          "Eastern Grey Squirrel",
          "Short-eared Owl",
          "Hooded Merganser",
          "Purple Finch",
          "Mountain Beaver",
          "Eastern Gray Squirrel",
          "Gadwall",
          "Canada Goose",
          "Common Raven",
          "Painted Turtle",
          "American Wigeon",
          "Fancy Pigeon",
          "Northern Raccoon",
          "Silver-haired Bat",
          "American Kestrel",
          "Coyote",
          "Bobcat",
          "Yellow-pine Chipmunk"
         ],
         "yaxis": "y"
        }
       ],
       "layout": {
        "barmode": "relative",
        "height": 3825,
        "hoverlabel": {
         "bgcolor": "white",
         "bordercolor": "black",
         "font": {
          "color": "black",
          "family": "Arial",
          "size": 14
         }
        },
        "legend": {
         "tracegroupgap": 0
        },
        "margin": {
         "l": 200
        },
        "template": {
         "data": {
          "bar": [
           {
            "error_x": {
             "color": "#2a3f5f"
            },
            "error_y": {
             "color": "#2a3f5f"
            },
            "marker": {
             "line": {
              "color": "#E5ECF6",
              "width": 0.5
             },
             "pattern": {
              "fillmode": "overlay",
              "size": 10,
              "solidity": 0.2
             }
            },
            "type": "bar"
           }
          ],
          "barpolar": [
           {
            "marker": {
             "line": {
              "color": "#E5ECF6",
              "width": 0.5
             },
             "pattern": {
              "fillmode": "overlay",
              "size": 10,
              "solidity": 0.2
             }
            },
            "type": "barpolar"
           }
          ],
          "carpet": [
           {
            "aaxis": {
             "endlinecolor": "#2a3f5f",
             "gridcolor": "white",
             "linecolor": "white",
             "minorgridcolor": "white",
             "startlinecolor": "#2a3f5f"
            },
            "baxis": {
             "endlinecolor": "#2a3f5f",
             "gridcolor": "white",
             "linecolor": "white",
             "minorgridcolor": "white",
             "startlinecolor": "#2a3f5f"
            },
            "type": "carpet"
           }
          ],
          "choropleth": [
           {
            "colorbar": {
             "outlinewidth": 0,
             "ticks": ""
            },
            "type": "choropleth"
           }
          ],
          "contour": [
           {
            "colorbar": {
             "outlinewidth": 0,
             "ticks": ""
            },
            "colorscale": [
             [
              0,
              "#0d0887"
             ],
             [
              0.1111111111111111,
              "#46039f"
             ],
             [
              0.2222222222222222,
              "#7201a8"
             ],
             [
              0.3333333333333333,
              "#9c179e"
             ],
             [
              0.4444444444444444,
              "#bd3786"
             ],
             [
              0.5555555555555556,
              "#d8576b"
             ],
             [
              0.6666666666666666,
              "#ed7953"
             ],
             [
              0.7777777777777778,
              "#fb9f3a"
             ],
             [
              0.8888888888888888,
              "#fdca26"
             ],
             [
              1,
              "#f0f921"
             ]
            ],
            "type": "contour"
           }
          ],
          "contourcarpet": [
           {
            "colorbar": {
             "outlinewidth": 0,
             "ticks": ""
            },
            "type": "contourcarpet"
           }
          ],
          "heatmap": [
           {
            "colorbar": {
             "outlinewidth": 0,
             "ticks": ""
            },
            "colorscale": [
             [
              0,
              "#0d0887"
             ],
             [
              0.1111111111111111,
              "#46039f"
             ],
             [
              0.2222222222222222,
              "#7201a8"
             ],
             [
              0.3333333333333333,
              "#9c179e"
             ],
             [
              0.4444444444444444,
              "#bd3786"
             ],
             [
              0.5555555555555556,
              "#d8576b"
             ],
             [
              0.6666666666666666,
              "#ed7953"
             ],
             [
              0.7777777777777778,
              "#fb9f3a"
             ],
             [
              0.8888888888888888,
              "#fdca26"
             ],
             [
              1,
              "#f0f921"
             ]
            ],
            "type": "heatmap"
           }
          ],
          "histogram": [
           {
            "marker": {
             "pattern": {
              "fillmode": "overlay",
              "size": 10,
              "solidity": 0.2
             }
            },
            "type": "histogram"
           }
          ],
          "histogram2d": [
           {
            "colorbar": {
             "outlinewidth": 0,
             "ticks": ""
            },
            "colorscale": [
             [
              0,
              "#0d0887"
             ],
             [
              0.1111111111111111,
              "#46039f"
             ],
             [
              0.2222222222222222,
              "#7201a8"
             ],
             [
              0.3333333333333333,
              "#9c179e"
             ],
             [
              0.4444444444444444,
              "#bd3786"
             ],
             [
              0.5555555555555556,
              "#d8576b"
             ],
             [
              0.6666666666666666,
              "#ed7953"
             ],
             [
              0.7777777777777778,
              "#fb9f3a"
             ],
             [
              0.8888888888888888,
              "#fdca26"
             ],
             [
              1,
              "#f0f921"
             ]
            ],
            "type": "histogram2d"
           }
          ],
          "histogram2dcontour": [
           {
            "colorbar": {
             "outlinewidth": 0,
             "ticks": ""
            },
            "colorscale": [
             [
              0,
              "#0d0887"
             ],
             [
              0.1111111111111111,
              "#46039f"
             ],
             [
              0.2222222222222222,
              "#7201a8"
             ],
             [
              0.3333333333333333,
              "#9c179e"
             ],
             [
              0.4444444444444444,
              "#bd3786"
             ],
             [
              0.5555555555555556,
              "#d8576b"
             ],
             [
              0.6666666666666666,
              "#ed7953"
             ],
             [
              0.7777777777777778,
              "#fb9f3a"
             ],
             [
              0.8888888888888888,
              "#fdca26"
             ],
             [
              1,
              "#f0f921"
             ]
            ],
            "type": "histogram2dcontour"
           }
          ],
          "mesh3d": [
           {
            "colorbar": {
             "outlinewidth": 0,
             "ticks": ""
            },
            "type": "mesh3d"
           }
          ],
          "parcoords": [
           {
            "line": {
             "colorbar": {
              "outlinewidth": 0,
              "ticks": ""
             }
            },
            "type": "parcoords"
           }
          ],
          "pie": [
           {
            "automargin": true,
            "type": "pie"
           }
          ],
          "scatter": [
           {
            "fillpattern": {
             "fillmode": "overlay",
             "size": 10,
             "solidity": 0.2
            },
            "type": "scatter"
           }
          ],
          "scatter3d": [
           {
            "line": {
             "colorbar": {
              "outlinewidth": 0,
              "ticks": ""
             }
            },
            "marker": {
             "colorbar": {
              "outlinewidth": 0,
              "ticks": ""
             }
            },
            "type": "scatter3d"
           }
          ],
          "scattercarpet": [
           {
            "marker": {
             "colorbar": {
              "outlinewidth": 0,
              "ticks": ""
             }
            },
            "type": "scattercarpet"
           }
          ],
          "scattergeo": [
           {
            "marker": {
             "colorbar": {
              "outlinewidth": 0,
              "ticks": ""
             }
            },
            "type": "scattergeo"
           }
          ],
          "scattergl": [
           {
            "marker": {
             "colorbar": {
              "outlinewidth": 0,
              "ticks": ""
             }
            },
            "type": "scattergl"
           }
          ],
          "scattermap": [
           {
            "marker": {
             "colorbar": {
              "outlinewidth": 0,
              "ticks": ""
             }
            },
            "type": "scattermap"
           }
          ],
          "scattermapbox": [
           {
            "marker": {
             "colorbar": {
              "outlinewidth": 0,
              "ticks": ""
             }
            },
            "type": "scattermapbox"
           }
          ],
          "scatterpolar": [
           {
            "marker": {
             "colorbar": {
              "outlinewidth": 0,
              "ticks": ""
             }
            },
            "type": "scatterpolar"
           }
          ],
          "scatterpolargl": [
           {
            "marker": {
             "colorbar": {
              "outlinewidth": 0,
              "ticks": ""
             }
            },
            "type": "scatterpolargl"
           }
          ],
          "scatterternary": [
           {
            "marker": {
             "colorbar": {
              "outlinewidth": 0,
              "ticks": ""
             }
            },
            "type": "scatterternary"
           }
          ],
          "surface": [
           {
            "colorbar": {
             "outlinewidth": 0,
             "ticks": ""
            },
            "colorscale": [
             [
              0,
              "#0d0887"
             ],
             [
              0.1111111111111111,
              "#46039f"
             ],
             [
              0.2222222222222222,
              "#7201a8"
             ],
             [
              0.3333333333333333,
              "#9c179e"
             ],
             [
              0.4444444444444444,
              "#bd3786"
             ],
             [
              0.5555555555555556,
              "#d8576b"
             ],
             [
              0.6666666666666666,
              "#ed7953"
             ],
             [
              0.7777777777777778,
              "#fb9f3a"
             ],
             [
              0.8888888888888888,
              "#fdca26"
             ],
             [
              1,
              "#f0f921"
             ]
            ],
            "type": "surface"
           }
          ],
          "table": [
           {
            "cells": {
             "fill": {
              "color": "#EBF0F8"
             },
             "line": {
              "color": "white"
             }
            },
            "header": {
             "fill": {
              "color": "#C8D4E3"
             },
             "line": {
              "color": "white"
             }
            },
            "type": "table"
           }
          ]
         },
         "layout": {
          "annotationdefaults": {
           "arrowcolor": "#2a3f5f",
           "arrowhead": 0,
           "arrowwidth": 1
          },
          "autotypenumbers": "strict",
          "coloraxis": {
           "colorbar": {
            "outlinewidth": 0,
            "ticks": ""
           }
          },
          "colorscale": {
           "diverging": [
            [
             0,
             "#8e0152"
            ],
            [
             0.1,
             "#c51b7d"
            ],
            [
             0.2,
             "#de77ae"
            ],
            [
             0.3,
             "#f1b6da"
            ],
            [
             0.4,
             "#fde0ef"
            ],
            [
             0.5,
             "#f7f7f7"
            ],
            [
             0.6,
             "#e6f5d0"
            ],
            [
             0.7,
             "#b8e186"
            ],
            [
             0.8,
             "#7fbc41"
            ],
            [
             0.9,
             "#4d9221"
            ],
            [
             1,
             "#276419"
            ]
           ],
           "sequential": [
            [
             0,
             "#0d0887"
            ],
            [
             0.1111111111111111,
             "#46039f"
            ],
            [
             0.2222222222222222,
             "#7201a8"
            ],
            [
             0.3333333333333333,
             "#9c179e"
            ],
            [
             0.4444444444444444,
             "#bd3786"
            ],
            [
             0.5555555555555556,
             "#d8576b"
            ],
            [
             0.6666666666666666,
             "#ed7953"
            ],
            [
             0.7777777777777778,
             "#fb9f3a"
            ],
            [
             0.8888888888888888,
             "#fdca26"
            ],
            [
             1,
             "#f0f921"
            ]
           ],
           "sequentialminus": [
            [
             0,
             "#0d0887"
            ],
            [
             0.1111111111111111,
             "#46039f"
            ],
            [
             0.2222222222222222,
             "#7201a8"
            ],
            [
             0.3333333333333333,
             "#9c179e"
            ],
            [
             0.4444444444444444,
             "#bd3786"
            ],
            [
             0.5555555555555556,
             "#d8576b"
            ],
            [
             0.6666666666666666,
             "#ed7953"
            ],
            [
             0.7777777777777778,
             "#fb9f3a"
            ],
            [
             0.8888888888888888,
             "#fdca26"
            ],
            [
             1,
             "#f0f921"
            ]
           ]
          },
          "colorway": [
           "#636efa",
           "#EF553B",
           "#00cc96",
           "#ab63fa",
           "#FFA15A",
           "#19d3f3",
           "#FF6692",
           "#B6E880",
           "#FF97FF",
           "#FECB52"
          ],
          "font": {
           "color": "#2a3f5f"
          },
          "geo": {
           "bgcolor": "white",
           "lakecolor": "white",
           "landcolor": "#E5ECF6",
           "showlakes": true,
           "showland": true,
           "subunitcolor": "white"
          },
          "hoverlabel": {
           "align": "left"
          },
          "hovermode": "closest",
          "mapbox": {
           "style": "light"
          },
          "paper_bgcolor": "white",
          "plot_bgcolor": "#E5ECF6",
          "polar": {
           "angularaxis": {
            "gridcolor": "white",
            "linecolor": "white",
            "ticks": ""
           },
           "bgcolor": "#E5ECF6",
           "radialaxis": {
            "gridcolor": "white",
            "linecolor": "white",
            "ticks": ""
           }
          },
          "scene": {
           "xaxis": {
            "backgroundcolor": "#E5ECF6",
            "gridcolor": "white",
            "gridwidth": 2,
            "linecolor": "white",
            "showbackground": true,
            "ticks": "",
            "zerolinecolor": "white"
           },
           "yaxis": {
            "backgroundcolor": "#E5ECF6",
            "gridcolor": "white",
            "gridwidth": 2,
            "linecolor": "white",
            "showbackground": true,
            "ticks": "",
            "zerolinecolor": "white"
           },
           "zaxis": {
            "backgroundcolor": "#E5ECF6",
            "gridcolor": "white",
            "gridwidth": 2,
            "linecolor": "white",
            "showbackground": true,
            "ticks": "",
            "zerolinecolor": "white"
           }
          },
          "shapedefaults": {
           "line": {
            "color": "#2a3f5f"
           }
          },
          "ternary": {
           "aaxis": {
            "gridcolor": "white",
            "linecolor": "white",
            "ticks": ""
           },
           "baxis": {
            "gridcolor": "white",
            "linecolor": "white",
            "ticks": ""
           },
           "bgcolor": "#E5ECF6",
           "caxis": {
            "gridcolor": "white",
            "linecolor": "white",
            "ticks": ""
           }
          },
          "title": {
           "x": 0.05
          },
          "xaxis": {
           "automargin": true,
           "gridcolor": "white",
           "linecolor": "white",
           "ticks": "",
           "title": {
            "standoff": 15
           },
           "zerolinecolor": "white",
           "zerolinewidth": 2
          },
          "yaxis": {
           "automargin": true,
           "gridcolor": "white",
           "linecolor": "white",
           "ticks": "",
           "title": {
            "standoff": 15
           },
           "zerolinecolor": "white",
           "zerolinewidth": 2
          }
         }
        },
        "title": {
         "text": "Average Days in Care per Animal Type (Released Only, 2014-2024)"
        },
        "xaxis": {
         "anchor": "y",
         "domain": [
          0,
          1
         ],
         "title": {
          "text": "Average Days in Care"
         }
        },
        "yaxis": {
         "anchor": "x",
         "categoryorder": "total ascending",
         "domain": [
          0,
          1
         ],
         "title": {
          "text": "Animal Type"
         }
        }
       }
      }
     },
     "metadata": {},
     "output_type": "display_data"
    }
   ],
   "source": [
    "released_df = df[df[\"patients_disposition\"] == \"Released\"]\n",
    "\n",
    "# Drop missing or invalid values\n",
    "released_df = released_df.dropna(subset=[\"patients_days_in_care\", \"patients_common_name\"])\n",
    "released_df[\"patients_days_in_care\"] = pd.to_numeric(released_df[\"patients_days_in_care\"], errors='coerce')\n",
    "\n",
    "# Compute average days in care per animal type and count\n",
    "avg_days = (\n",
    "    released_df\n",
    "    .groupby(\"patients_common_name\")[\"patients_days_in_care\"]\n",
    "    .agg(['mean', 'count'])\n",
    "    .reset_index()\n",
    ")\n",
    "avg_days.columns = [\"patients_common_name\", \"patients_days_in_care\", \"release_count\"]\n",
    "avg_days = avg_days.sort_values(\"patients_days_in_care\", ascending=True)  # Ascending for horizontal bar (longest at top)\n",
    "\n",
    "# Plot using Plotly - horizontal bar chart\n",
    "fig = px.bar(\n",
    "    avg_days,\n",
    "    y=\"patients_common_name\",\n",
    "    x=\"patients_days_in_care\",\n",
    "    orientation='h',\n",
    "    hover_data={\"patients_days_in_care\": ':.2f', \"release_count\": ':.0f'},\n",
    "    labels={\n",
    "        \"patients_common_name\": \"Animal Type\", \n",
    "        \"patients_days_in_care\": \"Average Days in Care\",\n",
    "        \"release_count\": \"Total Released\"\n",
    "    },\n",
    "    title=\"Average Days in Care per Animal Type (Released Only, 2014-2024)\",\n",
    "    height=max(400, len(avg_days) * 25)  # Dynamic height based on number of species\n",
    ")\n",
    "\n",
    "# Customize hover template\n",
    "fig.update_traces(\n",
    "    hovertemplate='<b>%{y}</b><br>' +\n",
    "                  'Average Days in Care: %{x:.2f}<br>' +\n",
    "                  'Total Released: %{customdata[0]:.0f}' +\n",
    "                  '<extra></extra>'\n",
    ")\n",
    "\n",
    "fig.update_layout(\n",
    "    yaxis={'categoryorder':'total ascending'},  # Ensures bars are sorted by value\n",
    "    margin=dict(l=200),  # More left margin for animal names\n",
    "    hoverlabel=dict(\n",
    "        bgcolor=\"white\",  # White background\n",
    "        font_size=14,\n",
    "        font_family=\"Arial\",\n",
    "        font_color=\"black\",  # Black text\n",
    "        bordercolor=\"black\"  # Black border for definition\n",
    "    )\n",
    ")\n",
    "fig.show()\n",
    "fig.write_html(\"14to24/days_before_release_14to24.html\")"
   ]
  }
 ],
 "metadata": {
  "kernelspec": {
   "display_name": ".venv (3.12.2)",
   "language": "python",
   "name": "python3"
  },
  "language_info": {
   "codemirror_mode": {
    "name": "ipython",
    "version": 3
   },
   "file_extension": ".py",
   "mimetype": "text/x-python",
   "name": "python",
   "nbconvert_exporter": "python",
   "pygments_lexer": "ipython3",
   "version": "3.12.2"
  }
 },
 "nbformat": 4,
 "nbformat_minor": 5
}
